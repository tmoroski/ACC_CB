{
 "cells": [
  {
   "cell_type": "code",
   "execution_count": 1,
   "id": "2f4d5234-199e-4b02-b4c5-d6be4cb105d4",
   "metadata": {},
   "outputs": [],
   "source": [
    "%run ../Production/01_ACC_Dependencies.ipynb\n",
    "%run ../Production/02_ACC_ScheduleBuilder.ipynb\n",
    "%run ../Production/03_ACC_CurrentSeasonCollector.ipynb"
   ]
  },
  {
   "cell_type": "code",
   "execution_count": 2,
   "id": "3a0f6f46-fff5-49e0-8add-e05ced4a8ba2",
   "metadata": {},
   "outputs": [
    {
     "data": {
      "text/html": [
       "<div>\n",
       "<style scoped>\n",
       "    .dataframe tbody tr th:only-of-type {\n",
       "        vertical-align: middle;\n",
       "    }\n",
       "\n",
       "    .dataframe tbody tr th {\n",
       "        vertical-align: top;\n",
       "    }\n",
       "\n",
       "    .dataframe thead th {\n",
       "        text-align: right;\n",
       "    }\n",
       "</style>\n",
       "<table border=\"1\" class=\"dataframe\">\n",
       "  <thead>\n",
       "    <tr style=\"text-align: right;\">\n",
       "      <th></th>\n",
       "      <th>Date</th>\n",
       "      <th>Visitor/Neutral</th>\n",
       "      <th>Home/Neutral</th>\n",
       "    </tr>\n",
       "  </thead>\n",
       "  <tbody>\n",
       "    <tr>\n",
       "      <th>47</th>\n",
       "      <td>Jan 7, 2025</td>\n",
       "      <td>Phoenix Suns</td>\n",
       "      <td>Charlotte Hornets</td>\n",
       "    </tr>\n",
       "    <tr>\n",
       "      <th>48</th>\n",
       "      <td>Jan 7, 2025</td>\n",
       "      <td>Houston Rockets</td>\n",
       "      <td>Washington Wizards</td>\n",
       "    </tr>\n",
       "    <tr>\n",
       "      <th>49</th>\n",
       "      <td>Jan 7, 2025</td>\n",
       "      <td>Los Angeles Lakers</td>\n",
       "      <td>Dallas Mavericks</td>\n",
       "    </tr>\n",
       "    <tr>\n",
       "      <th>50</th>\n",
       "      <td>Jan 7, 2025</td>\n",
       "      <td>Minnesota Timberwolves</td>\n",
       "      <td>New Orleans Pelicans</td>\n",
       "    </tr>\n",
       "    <tr>\n",
       "      <th>51</th>\n",
       "      <td>Jan 7, 2025</td>\n",
       "      <td>Atlanta Hawks</td>\n",
       "      <td>Utah Jazz</td>\n",
       "    </tr>\n",
       "    <tr>\n",
       "      <th>52</th>\n",
       "      <td>Jan 7, 2025</td>\n",
       "      <td>Boston Celtics</td>\n",
       "      <td>Denver Nuggets</td>\n",
       "    </tr>\n",
       "    <tr>\n",
       "      <th>53</th>\n",
       "      <td>Jan 7, 2025</td>\n",
       "      <td>Miami Heat</td>\n",
       "      <td>Golden State Warriors</td>\n",
       "    </tr>\n",
       "  </tbody>\n",
       "</table>\n",
       "</div>"
      ],
      "text/plain": [
       "           Date         Visitor/Neutral           Home/Neutral\n",
       "47  Jan 7, 2025            Phoenix Suns      Charlotte Hornets\n",
       "48  Jan 7, 2025         Houston Rockets     Washington Wizards\n",
       "49  Jan 7, 2025      Los Angeles Lakers       Dallas Mavericks\n",
       "50  Jan 7, 2025  Minnesota Timberwolves   New Orleans Pelicans\n",
       "51  Jan 7, 2025           Atlanta Hawks              Utah Jazz\n",
       "52  Jan 7, 2025          Boston Celtics         Denver Nuggets\n",
       "53  Jan 7, 2025              Miami Heat  Golden State Warriors"
      ]
     },
     "execution_count": 2,
     "metadata": {},
     "output_type": "execute_result"
    }
   ],
   "source": [
    "todaytable "
   ]
  },
  {
   "cell_type": "code",
   "execution_count": null,
   "id": "dde984ce-68f3-41d0-85e7-c3f56df24785",
   "metadata": {},
   "outputs": [],
   "source": []
  }
 ],
 "metadata": {
  "kernelspec": {
   "display_name": "Python 3 (ipykernel)",
   "language": "python",
   "name": "python3"
  },
  "language_info": {
   "codemirror_mode": {
    "name": "ipython",
    "version": 3
   },
   "file_extension": ".py",
   "mimetype": "text/x-python",
   "name": "python",
   "nbconvert_exporter": "python",
   "pygments_lexer": "ipython3",
   "version": "3.9.7"
  }
 },
 "nbformat": 4,
 "nbformat_minor": 5
}
