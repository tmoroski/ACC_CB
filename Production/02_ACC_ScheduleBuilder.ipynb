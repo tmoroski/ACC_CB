{
 "cells": [
  {
   "cell_type": "markdown",
   "id": "3b0269de-d4e9-4520-bc2c-76ba773377a9",
   "metadata": {},
   "source": [
    "# ACC Schedule Builder"
   ]
  },
  {
   "cell_type": "code",
   "execution_count": 2,
   "id": "078c844e-9879-4110-90e7-a1871cd577d6",
   "metadata": {},
   "outputs": [],
   "source": [
    "# Establishing today's date so that we can identify the game schedule to reference\n",
    "%run ../Production/01_ACC_Dependencies.ipynb\n",
    "today = date.today()\n",
    "\n",
    "todays_date = today.strftime(\"%b %#d, %Y\")"
   ]
  },
  {
   "cell_type": "code",
   "execution_count": 4,
   "id": "a43e357c-c5ec-41b8-bb28-9ea63886afeb",
   "metadata": {},
   "outputs": [],
   "source": [
    "url = 'https://www.sports-reference.com/cbb/conferences/acc/men/2025-schedule.html'"
   ]
  },
  {
   "cell_type": "code",
   "execution_count": null,
   "id": "e246a61e-cdbc-41a6-aa70-e449b55a20d2",
   "metadata": {},
   "outputs": [],
   "source": []
  },
  {
   "cell_type": "code",
   "execution_count": 7,
   "id": "f29b2787-b73f-420c-b68c-9d979ffb28e5",
   "metadata": {},
   "outputs": [],
   "source": [
    "# This code block is reaching out the selected url to grab today's basketball schedule\n",
    "data = pd.read_html(url)\n",
    "table = data[0]\n",
    "table['Date'] = table['Date'].str[5:]\n",
    "todaytable = table[['Date','Visitor/Neutral','Home/Neutral',]]\n",
    "todaytable = todaytable[todaytable.Date == todays_date]"
   ]
  },
  {
   "cell_type": "code",
   "execution_count": 9,
   "id": "a27d42b9-cff7-4690-8cb5-0d9f8630ecb6",
   "metadata": {},
   "outputs": [
    {
     "data": {
      "text/html": [
       "<div>\n",
       "<style scoped>\n",
       "    .dataframe tbody tr th:only-of-type {\n",
       "        vertical-align: middle;\n",
       "    }\n",
       "\n",
       "    .dataframe tbody tr th {\n",
       "        vertical-align: top;\n",
       "    }\n",
       "\n",
       "    .dataframe thead th {\n",
       "        text-align: right;\n",
       "    }\n",
       "</style>\n",
       "<table border=\"1\" class=\"dataframe\">\n",
       "  <thead>\n",
       "    <tr style=\"text-align: right;\">\n",
       "      <th></th>\n",
       "      <th>Date</th>\n",
       "      <th>Visitor/Neutral</th>\n",
       "      <th>Home/Neutral</th>\n",
       "    </tr>\n",
       "  </thead>\n",
       "  <tbody>\n",
       "    <tr>\n",
       "      <th>49</th>\n",
       "      <td>Jan 13, 2025</td>\n",
       "      <td>Boston College</td>\n",
       "      <td>Notre Dame</td>\n",
       "    </tr>\n",
       "  </tbody>\n",
       "</table>\n",
       "</div>"
      ],
      "text/plain": [
       "            Date Visitor/Neutral Home/Neutral\n",
       "49  Jan 13, 2025  Boston College   Notre Dame"
      ]
     },
     "execution_count": 9,
     "metadata": {},
     "output_type": "execute_result"
    }
   ],
   "source": [
    "todaytable"
   ]
  },
  {
   "cell_type": "code",
   "execution_count": 13,
   "id": "beb7d2dd-34cf-44c4-b0a5-2783b6d8e2bc",
   "metadata": {},
   "outputs": [],
   "source": [
    "teamList = todaytable['Visitor/Neutral'].to_list() + todaytable['Home/Neutral'].to_list()"
   ]
  },
  {
   "cell_type": "code",
   "execution_count": 15,
   "id": "34477dd4-7d01-4198-bdfa-e21f8cf9552c",
   "metadata": {},
   "outputs": [],
   "source": [
    "mappingDict = {\n",
    "                'Boston College':'boston-college',\n",
    "                'NC State':'north-carolina-state',\n",
    "                'California':'california',\n",
    "                'Duke':'duke',\n",
    "                'Florida State':'florida-state',\n",
    "                'Georgia Tech':'georgia-tech',\n",
    "                'Houston':'houston',\n",
    "                'Louisville':'louisville',\n",
    "                'Maryland':'maryland',\n",
    "                'Miami (FL)':'miami-fl',\n",
    "                'North Carolina':'north-carolina',\n",
    "                'Northwestern':'northwestern',\n",
    "                'Notre Dame':'notre-dame',\n",
    "                'Pittsburgh':'pittsburgh',\n",
    "                'South Carolina':'south-carolina',\n",
    "                'Southern Methodist':'southern-methodist',\n",
    "                'Stanford':'stanford',\n",
    "                'Syracuse':'syracuse',\n",
    "                'Virginia':'virginia',\n",
    "                'Virginia Tech':'virginia-tech',\n",
    "                'Wake Forest':'wake-forest',\n",
    "                'Clemson':'clemson'\n",
    "                }\n",
    "\n",
    "updatedTeamList = [mappingDict.get(n, n) for n in teamList]"
   ]
  },
  {
   "cell_type": "markdown",
   "id": "cf1a7f72-8757-45a5-b49e-e3feb60ef433",
   "metadata": {},
   "source": [
    "### End of Notebook"
   ]
  },
  {
   "cell_type": "code",
   "execution_count": null,
   "id": "0aae6c5c-2f54-4207-9488-5abcc32dadf6",
   "metadata": {},
   "outputs": [],
   "source": []
  }
 ],
 "metadata": {
  "kernelspec": {
   "display_name": "Python [conda env:base] *",
   "language": "python",
   "name": "conda-base-py"
  },
  "language_info": {
   "codemirror_mode": {
    "name": "ipython",
    "version": 3
   },
   "file_extension": ".py",
   "mimetype": "text/x-python",
   "name": "python",
   "nbconvert_exporter": "python",
   "pygments_lexer": "ipython3",
   "version": "3.12.7"
  }
 },
 "nbformat": 4,
 "nbformat_minor": 5
}
